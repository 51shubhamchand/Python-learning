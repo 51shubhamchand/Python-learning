{
  "nbformat": 4,
  "nbformat_minor": 0,
  "metadata": {
    "colab": {
      "name": "Machine learning.ipynb",
      "provenance": [],
      "authorship_tag": "ABX9TyMsm2AnpwTAoXhmMuKDZkUz",
      "include_colab_link": true
    },
    "kernelspec": {
      "name": "ir",
      "display_name": "R"
    }
  },
  "cells": [
    {
      "cell_type": "markdown",
      "metadata": {
        "id": "view-in-github",
        "colab_type": "text"
      },
      "source": [
        "<a href=\"https://colab.research.google.com/github/tlerksuthirat/Python-learning/blob/master/Machine_learning.ipynb\" target=\"_parent\"><img src=\"https://colab.research.google.com/assets/colab-badge.svg\" alt=\"Open In Colab\"/></a>"
      ]
    },
    {
      "cell_type": "code",
      "metadata": {
        "id": "g8itbbaDIXKW",
        "colab_type": "code",
        "colab": {
          "base_uri": "https://localhost:8080/",
          "height": 221
        },
        "outputId": "c7835bdc-fb1a-48b8-d896-9df49d4f56db"
      },
      "source": [
        "install.packages(\"e1071\")\n",
        "install.packages(\"kernlab\")##contain algorithm for the ML\n",
        "install.packages(\"caret\")"
      ],
      "execution_count": 2,
      "outputs": [
        {
          "output_type": "stream",
          "text": [
            "Installing package into ‘/usr/local/lib/R/site-library’\n",
            "(as ‘lib’ is unspecified)\n",
            "\n",
            "Installing package into ‘/usr/local/lib/R/site-library’\n",
            "(as ‘lib’ is unspecified)\n",
            "\n",
            "Installing package into ‘/usr/local/lib/R/site-library’\n",
            "(as ‘lib’ is unspecified)\n",
            "\n",
            "also installing the dependencies ‘numDeriv’, ‘SQUAREM’, ‘lava’, ‘prodlim’, ‘iterators’, ‘data.table’, ‘gower’, ‘ipred’, ‘timeDate’, ‘foreach’, ‘plyr’, ‘ModelMetrics’, ‘reshape2’, ‘recipes’, ‘pROC’\n",
            "\n",
            "\n"
          ],
          "name": "stderr"
        }
      ]
    },
    {
      "cell_type": "code",
      "metadata": {
        "id": "_CtjTMhpTs2E",
        "colab_type": "code",
        "colab": {
          "base_uri": "https://localhost:8080/",
          "height": 170
        },
        "outputId": "d018654c-0b35-4426-b496-e5dc220254fa"
      },
      "source": [
        "###Retrieve data from http or ftp####\n",
        "##using library Rcurl\n",
        "install.packages(\"RCurl\")\n",
        "library(RCurl)##loading the tool\n",
        "iris <- read.csv(text = getURL(\"https://raw.githubusercontent.com/dataprofessor/data/master/iris.csv\"))\n",
        "iris$Sepal.Length"
      ],
      "execution_count": 7,
      "outputs": [
        {
          "output_type": "stream",
          "text": [
            "Installing package into ‘/usr/local/lib/R/site-library’\n",
            "(as ‘lib’ is unspecified)\n",
            "\n",
            "also installing the dependency ‘bitops’\n",
            "\n",
            "\n"
          ],
          "name": "stderr"
        },
        {
          "output_type": "display_data",
          "data": {
            "text/plain": [
              "  [1] 5.1 4.9 4.7 4.6 5.0 5.4 4.6 5.0 4.4 4.9 5.4 4.8 4.8 4.3 5.8 5.7 5.4 5.1\n",
              " [19] 5.7 5.1 5.4 5.1 4.6 5.1 4.8 5.0 5.0 5.2 5.2 4.7 4.8 5.4 5.2 5.5 4.9 5.0\n",
              " [37] 5.5 4.9 4.4 5.1 5.0 4.5 4.4 5.0 5.1 4.8 5.1 4.6 5.3 5.0 7.0 6.4 6.9 5.5\n",
              " [55] 6.5 5.7 6.3 4.9 6.6 5.2 5.0 5.9 6.0 6.1 5.6 6.7 5.6 5.8 6.2 5.6 5.9 6.1\n",
              " [73] 6.3 6.1 6.4 6.6 6.8 6.7 6.0 5.7 5.5 5.5 5.8 6.0 5.4 6.0 6.7 6.3 5.6 5.5\n",
              " [91] 5.5 6.1 5.8 5.0 5.6 5.7 5.7 6.2 5.1 5.7 6.3 5.8 7.1 6.3 6.5 7.6 4.9 7.3\n",
              "[109] 6.7 7.2 6.5 6.4 6.8 5.7 5.8 6.4 6.5 7.7 7.7 6.0 6.9 5.6 7.7 6.3 6.7 7.2\n",
              "[127] 6.2 6.1 6.4 7.2 7.4 7.9 6.4 6.3 6.1 7.7 6.3 6.4 6.0 6.9 6.7 6.9 5.8 6.8\n",
              "[145] 6.7 6.7 6.3 6.5 6.2 5.9"
            ],
            "text/latex": "\\begin{enumerate*}\n\\item 5.1\n\\item 4.9\n\\item 4.7\n\\item 4.6\n\\item 5\n\\item 5.4\n\\item 4.6\n\\item 5\n\\item 4.4\n\\item 4.9\n\\item 5.4\n\\item 4.8\n\\item 4.8\n\\item 4.3\n\\item 5.8\n\\item 5.7\n\\item 5.4\n\\item 5.1\n\\item 5.7\n\\item 5.1\n\\item 5.4\n\\item 5.1\n\\item 4.6\n\\item 5.1\n\\item 4.8\n\\item 5\n\\item 5\n\\item 5.2\n\\item 5.2\n\\item 4.7\n\\item 4.8\n\\item 5.4\n\\item 5.2\n\\item 5.5\n\\item 4.9\n\\item 5\n\\item 5.5\n\\item 4.9\n\\item 4.4\n\\item 5.1\n\\item 5\n\\item 4.5\n\\item 4.4\n\\item 5\n\\item 5.1\n\\item 4.8\n\\item 5.1\n\\item 4.6\n\\item 5.3\n\\item 5\n\\item 7\n\\item 6.4\n\\item 6.9\n\\item 5.5\n\\item 6.5\n\\item 5.7\n\\item 6.3\n\\item 4.9\n\\item 6.6\n\\item 5.2\n\\item 5\n\\item 5.9\n\\item 6\n\\item 6.1\n\\item 5.6\n\\item 6.7\n\\item 5.6\n\\item 5.8\n\\item 6.2\n\\item 5.6\n\\item 5.9\n\\item 6.1\n\\item 6.3\n\\item 6.1\n\\item 6.4\n\\item 6.6\n\\item 6.8\n\\item 6.7\n\\item 6\n\\item 5.7\n\\item 5.5\n\\item 5.5\n\\item 5.8\n\\item 6\n\\item 5.4\n\\item 6\n\\item 6.7\n\\item 6.3\n\\item 5.6\n\\item 5.5\n\\item 5.5\n\\item 6.1\n\\item 5.8\n\\item 5\n\\item 5.6\n\\item 5.7\n\\item 5.7\n\\item 6.2\n\\item 5.1\n\\item 5.7\n\\item 6.3\n\\item 5.8\n\\item 7.1\n\\item 6.3\n\\item 6.5\n\\item 7.6\n\\item 4.9\n\\item 7.3\n\\item 6.7\n\\item 7.2\n\\item 6.5\n\\item 6.4\n\\item 6.8\n\\item 5.7\n\\item 5.8\n\\item 6.4\n\\item 6.5\n\\item 7.7\n\\item 7.7\n\\item 6\n\\item 6.9\n\\item 5.6\n\\item 7.7\n\\item 6.3\n\\item 6.7\n\\item 7.2\n\\item 6.2\n\\item 6.1\n\\item 6.4\n\\item 7.2\n\\item 7.4\n\\item 7.9\n\\item 6.4\n\\item 6.3\n\\item 6.1\n\\item 7.7\n\\item 6.3\n\\item 6.4\n\\item 6\n\\item 6.9\n\\item 6.7\n\\item 6.9\n\\item 5.8\n\\item 6.8\n\\item 6.7\n\\item 6.7\n\\item 6.3\n\\item 6.5\n\\item 6.2\n\\item 5.9\n\\end{enumerate*}\n",
            "text/markdown": "1. 5.1\n2. 4.9\n3. 4.7\n4. 4.6\n5. 5\n6. 5.4\n7. 4.6\n8. 5\n9. 4.4\n10. 4.9\n11. 5.4\n12. 4.8\n13. 4.8\n14. 4.3\n15. 5.8\n16. 5.7\n17. 5.4\n18. 5.1\n19. 5.7\n20. 5.1\n21. 5.4\n22. 5.1\n23. 4.6\n24. 5.1\n25. 4.8\n26. 5\n27. 5\n28. 5.2\n29. 5.2\n30. 4.7\n31. 4.8\n32. 5.4\n33. 5.2\n34. 5.5\n35. 4.9\n36. 5\n37. 5.5\n38. 4.9\n39. 4.4\n40. 5.1\n41. 5\n42. 4.5\n43. 4.4\n44. 5\n45. 5.1\n46. 4.8\n47. 5.1\n48. 4.6\n49. 5.3\n50. 5\n51. 7\n52. 6.4\n53. 6.9\n54. 5.5\n55. 6.5\n56. 5.7\n57. 6.3\n58. 4.9\n59. 6.6\n60. 5.2\n61. 5\n62. 5.9\n63. 6\n64. 6.1\n65. 5.6\n66. 6.7\n67. 5.6\n68. 5.8\n69. 6.2\n70. 5.6\n71. 5.9\n72. 6.1\n73. 6.3\n74. 6.1\n75. 6.4\n76. 6.6\n77. 6.8\n78. 6.7\n79. 6\n80. 5.7\n81. 5.5\n82. 5.5\n83. 5.8\n84. 6\n85. 5.4\n86. 6\n87. 6.7\n88. 6.3\n89. 5.6\n90. 5.5\n91. 5.5\n92. 6.1\n93. 5.8\n94. 5\n95. 5.6\n96. 5.7\n97. 5.7\n98. 6.2\n99. 5.1\n100. 5.7\n101. 6.3\n102. 5.8\n103. 7.1\n104. 6.3\n105. 6.5\n106. 7.6\n107. 4.9\n108. 7.3\n109. 6.7\n110. 7.2\n111. 6.5\n112. 6.4\n113. 6.8\n114. 5.7\n115. 5.8\n116. 6.4\n117. 6.5\n118. 7.7\n119. 7.7\n120. 6\n121. 6.9\n122. 5.6\n123. 7.7\n124. 6.3\n125. 6.7\n126. 7.2\n127. 6.2\n128. 6.1\n129. 6.4\n130. 7.2\n131. 7.4\n132. 7.9\n133. 6.4\n134. 6.3\n135. 6.1\n136. 7.7\n137. 6.3\n138. 6.4\n139. 6\n140. 6.9\n141. 6.7\n142. 6.9\n143. 5.8\n144. 6.8\n145. 6.7\n146. 6.7\n147. 6.3\n148. 6.5\n149. 6.2\n150. 5.9\n\n\n",
            "text/html": [
              "<style>\n",
              ".list-inline {list-style: none; margin:0; padding: 0}\n",
              ".list-inline>li {display: inline-block}\n",
              ".list-inline>li:not(:last-child)::after {content: \"\\00b7\"; padding: 0 .5ex}\n",
              "</style>\n",
              "<ol class=list-inline><li>5.1</li><li>4.9</li><li>4.7</li><li>4.6</li><li>5</li><li>5.4</li><li>4.6</li><li>5</li><li>4.4</li><li>4.9</li><li>5.4</li><li>4.8</li><li>4.8</li><li>4.3</li><li>5.8</li><li>5.7</li><li>5.4</li><li>5.1</li><li>5.7</li><li>5.1</li><li>5.4</li><li>5.1</li><li>4.6</li><li>5.1</li><li>4.8</li><li>5</li><li>5</li><li>5.2</li><li>5.2</li><li>4.7</li><li>4.8</li><li>5.4</li><li>5.2</li><li>5.5</li><li>4.9</li><li>5</li><li>5.5</li><li>4.9</li><li>4.4</li><li>5.1</li><li>5</li><li>4.5</li><li>4.4</li><li>5</li><li>5.1</li><li>4.8</li><li>5.1</li><li>4.6</li><li>5.3</li><li>5</li><li>7</li><li>6.4</li><li>6.9</li><li>5.5</li><li>6.5</li><li>5.7</li><li>6.3</li><li>4.9</li><li>6.6</li><li>5.2</li><li>5</li><li>5.9</li><li>6</li><li>6.1</li><li>5.6</li><li>6.7</li><li>5.6</li><li>5.8</li><li>6.2</li><li>5.6</li><li>5.9</li><li>6.1</li><li>6.3</li><li>6.1</li><li>6.4</li><li>6.6</li><li>6.8</li><li>6.7</li><li>6</li><li>5.7</li><li>5.5</li><li>5.5</li><li>5.8</li><li>6</li><li>5.4</li><li>6</li><li>6.7</li><li>6.3</li><li>5.6</li><li>5.5</li><li>5.5</li><li>6.1</li><li>5.8</li><li>5</li><li>5.6</li><li>5.7</li><li>5.7</li><li>6.2</li><li>5.1</li><li>5.7</li><li>6.3</li><li>5.8</li><li>7.1</li><li>6.3</li><li>6.5</li><li>7.6</li><li>4.9</li><li>7.3</li><li>6.7</li><li>7.2</li><li>6.5</li><li>6.4</li><li>6.8</li><li>5.7</li><li>5.8</li><li>6.4</li><li>6.5</li><li>7.7</li><li>7.7</li><li>6</li><li>6.9</li><li>5.6</li><li>7.7</li><li>6.3</li><li>6.7</li><li>7.2</li><li>6.2</li><li>6.1</li><li>6.4</li><li>7.2</li><li>7.4</li><li>7.9</li><li>6.4</li><li>6.3</li><li>6.1</li><li>7.7</li><li>6.3</li><li>6.4</li><li>6</li><li>6.9</li><li>6.7</li><li>6.9</li><li>5.8</li><li>6.8</li><li>6.7</li><li>6.7</li><li>6.3</li><li>6.5</li><li>6.2</li><li>5.9</li></ol>\n"
            ]
          },
          "metadata": {
            "tags": []
          }
        }
      ]
    },
    {
      "cell_type": "code",
      "metadata": {
        "id": "zLoUVGwrS830",
        "colab_type": "code",
        "colab": {
          "base_uri": "https://localhost:8080/",
          "height": 95
        },
        "outputId": "8e086ad1-2983-4266-c01b-864a6b663321"
      },
      "source": [
        "library(datasets)\n",
        "####Learning R-language fro dataprofessor Utube####\n",
        "library(datasets)\n",
        "data(iris)\n",
        "view(iris)"
      ],
      "execution_count": 8,
      "outputs": [
        {
          "output_type": "error",
          "ename": "ERROR",
          "evalue": "ignored",
          "traceback": [
            "Error in view(iris): could not find function \"view\"\nTraceback:\n"
          ]
        }
      ]
    }
  ]
}